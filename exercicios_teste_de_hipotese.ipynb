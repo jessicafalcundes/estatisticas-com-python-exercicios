{
  "nbformat": 4,
  "nbformat_minor": 0,
  "metadata": {
    "colab": {
      "provenance": [],
      "name": "exercicios-teste-de-hipotese.ipynb",
      "authorship_tag": "ABX9TyM1hXaF771B5XCWwbuM9GFV",
      "include_colab_link": true
    },
    "kernelspec": {
      "name": "python3",
      "display_name": "Python 3"
    },
    "language_info": {
      "name": "python"
    }
  },
  "cells": [
    {
      "cell_type": "markdown",
      "metadata": {
        "id": "view-in-github",
        "colab_type": "text"
      },
      "source": [
        "<a href=\"https://colab.research.google.com/github/jessicafalcundes/estatisticas-com-python-exercicios/blob/master/exercicios_teste_de_hipotese.ipynb\" target=\"_parent\"><img src=\"https://colab.research.google.com/assets/colab-badge.svg\" alt=\"Open In Colab\"/></a>"
      ]
    },
    {
      "cell_type": "markdown",
      "source": [
        "### Estatística - Teste de Hipóteses\n",
        "\n",
        "Considerando a base de dados `experimento_teste_ab.csv`, responda as questões abaixo:"
      ],
      "metadata": {
        "id": "X311pMnkrbTq"
      }
    },
    {
      "cell_type": "markdown",
      "source": [
        "1. Qual dos cenários tem a maior taxa de conversão?"
      ],
      "metadata": {
        "id": "tInszBIErsCp"
      }
    },
    {
      "cell_type": "code",
      "execution_count": 2,
      "metadata": {
        "id": "1NG0Zc6cfqsf",
        "colab": {
          "base_uri": "https://localhost:8080/"
        },
        "outputId": "fba39aa9-6f6a-4cfc-8f11-89a0de09a887"
      },
      "outputs": [
        {
          "output_type": "stream",
          "name": "stdout",
          "text": [
            "Taxa de conversão por cenário:\n",
            "Versão_Página\n",
            "A    0.105\n",
            "B    0.125\n",
            "Name: Conversões, dtype: float64\n"
          ]
        }
      ],
      "source": [
        "import pandas as pd\n",
        "\n",
        "# Carregar os dados\n",
        "df = pd.read_csv(\"experimento_teste_ab.csv\")\n",
        "\n",
        "# Calcular a taxa de conversão para cada cenário\n",
        "taxa_conversao = df.groupby(\"Versão_Página\")[\"Conversões\"].mean()\n",
        "\n",
        "# Exibir a maior taxa de conversão\n",
        "print(\"Taxa de conversão por cenário:\")\n",
        "print(taxa_conversao)"
      ]
    },
    {
      "cell_type": "markdown",
      "source": [
        "2. Calcule qual o tamanho da amostra necessária para o desenvolvimento de um teste A/B, seguindo os seguintes critérios:  \n",
        "   a. O cenário A, da base, como o inicial, que funciona hoje.  \n",
        "   b. Considere 95% de confiança de que o efeito na conversão não foi aleatório com um nível de significância de 5% (alpha = 0,05).  \n",
        "   c. Também considere 80% de certeza conseguir capturar o efeito da nova abordagem.  \n",
        "   d. O aumento para 10% de conversão."
      ],
      "metadata": {
        "id": "EivhT5LctAla"
      }
    },
    {
      "cell_type": "code",
      "source": [
        "from statsmodels.stats.power import NormalIndPower\n",
        "from statsmodels.stats.proportion import proportion_effectsize\n",
        "\n",
        "# Definir os parâmetros do teste\n",
        "alpha = 0.05  # Nível de significância\n",
        "power = 0.8  # Poder do teste\n",
        "p1 = taxa_conversao[\"A\"]  # Taxa de conversão atual\n",
        "p2 = 0.10  # Nova taxa de conversão desejada\n",
        "effect_size = proportion_effectsize(p1, p2)\n",
        "\n",
        "# Calcular tamanho da amostra\n",
        "analysis = NormalIndPower()\n",
        "n_amostra = analysis.solve_power(effect_size, alpha=alpha, power=power, alternative=\"larger\")\n",
        "\n",
        "print(f\"Tamanho necessário da amostra para o teste A/B: {int(n_amostra)} visitantes por grupo\")"
      ],
      "metadata": {
        "colab": {
          "base_uri": "https://localhost:8080/"
        },
        "id": "04w3-v82tLAt",
        "outputId": "53d78798-da28-4a84-faa6-730b35154e25"
      },
      "execution_count": 3,
      "outputs": [
        {
          "output_type": "stream",
          "name": "stdout",
          "text": [
            "Tamanho necessário da amostra para o teste A/B: 45494 visitantes por grupo\n"
          ]
        }
      ]
    },
    {
      "cell_type": "markdown",
      "source": [
        "Verifique a base `pacientes.csv`, os dados são fictícios. A base sintetiza uma base de dados de um hospital que trata de pacientes com problemas cardíacos. Considere a base como a população, portanto as estatísticas da população são conhecidas. Responda as perguntas abaixo:\n",
        "\n",
        "3. Considerando uma amostra de 45 números que representam o index do dataframe:\n",
        "\n",
        "   índices = ([909, 751, 402, 400, 726, 39, 184, 269, 255, 769, 209, 715, 677, 381, 793, 697, 89, 280, 232, 756, 358, 36, 439, 768, 967, 699, 473, 222, 89, 639, 883, 558, 757, 84, 907, 895, 217, 224, 311, 348, 146, 505, 273, 957, 362])\n",
        "\n",
        "   Considerando essa amostra, é possível dizer que a idade média das pessoas com problemas cardíacos é maior que 50 anos? Nível de significância igual a 5%."
      ],
      "metadata": {
        "id": "iTUDC-R1tX9z"
      }
    },
    {
      "cell_type": "code",
      "source": [
        "import pandas as pd\n",
        "import scipy.stats as stats\n",
        "\n",
        "# Carregar os dados\n",
        "df = pd.read_csv(\"pacientes.csv\")\n",
        "\n",
        "# Definir amostra\n",
        "indices = [909, 751, 402, 400, 726, 39, 184, 269, 255, 769, 209, 715, 677, 381, 793, 697, 89, 280, 232, 756, 358, 36, 439, 768, 967, 699, 473, 222, 89, 639, 883, 558, 757, 84, 907, 895, 217, 224, 311, 348, 146, 505, 273, 957, 362]\n",
        "amostra_idade = df.loc[indices, \"Idade\"]\n",
        "\n",
        "# Teste t para média maior que 50 anos\n",
        "t_stat, p_valor = stats.ttest_1samp(amostra_idade, 50)\n",
        "\n",
        "print(f\"Teste T: estatística={t_stat:.4f}, p-valor={p_valor:.4f}\")\n",
        "\n",
        "# Verificar se rejeitamos H0\n",
        "if p_valor < 0.05:\n",
        "    print(\"Rejeitamos H0: A idade média da amostra é estatisticamente maior que 50 anos.\")\n",
        "else:\n",
        "    print(\"Não rejeitamos H0: Não há evidências suficientes para afirmar que a idade média da amostra é maior que 50 anos.\")"
      ],
      "metadata": {
        "colab": {
          "base_uri": "https://localhost:8080/"
        },
        "id": "vSNmH7TMuFNf",
        "outputId": "061c35c5-df27-4b47-95d5-300bed524f15"
      },
      "execution_count": 4,
      "outputs": [
        {
          "output_type": "stream",
          "name": "stdout",
          "text": [
            "Teste T: estatística=0.0523, p-valor=0.9585\n",
            "Não rejeitamos H0: Não há evidências suficientes para afirmar que a idade média da amostra é maior que 50 anos.\n"
          ]
        }
      ]
    },
    {
      "cell_type": "markdown",
      "source": [
        "4. Queremos entender que tipo de amostra estamos lidando se dividirmos os conjuntos em 2, sendo um com pessoas que têm condições de saúde adicionais e o outro com pessoas saudáveis. Seria dependente ou independente?\n",
        "\n",
        "Resposta: Se as amostras forem de pacientes que compartilham características ou são pareados de alguma maneira, seriam dependentes. Caso contrário, se os grupos forem formados aleatoriamente, são independentes. Aqui, pacientes com condições adicionais de saúde e pacientes saudáveis são grupos independentes."
      ],
      "metadata": {
        "id": "CAgcLwHwuLat"
      }
    },
    {
      "cell_type": "markdown",
      "source": [
        "5. Agora considere um conjunto de pessoas aleatórias que representam o index do dataframe:\n",
        "\n",
        "   índices = ([690, 894, 67, 201, 364, 19, 60, 319, 588, 643, 855, 623, 530, 174, 105, 693, 6, 462, 973, 607, 811, 346, 354, 966, 943, 372])\n",
        "\n",
        "   Podemos dizer que a pressão arterial média para pacientes com condições de saúde adicionais é igual à pressão arterial média para pacientes sem condições adicionais de saúde? Considere o nível de significância a 6%."
      ],
      "metadata": {
        "id": "KUJ2FNtMuYV-"
      }
    },
    {
      "cell_type": "code",
      "source": [
        "# Definir nova amostra\n",
        "indices_aleatorios = [690, 894, 67, 201, 364, 19, 60, 319, 588, 643, 855, 623, 530, 174, 105, 693, 6, 462, 973, 607, 811, 346, 354, 966, 943, 372]\n",
        "amostra_aleatoria = df.loc[indices_aleatorios]\n",
        "\n",
        "# Separar grupos\n",
        "grupo_saude = amostra_aleatoria[amostra_aleatoria[\"Estado_Saude\"] == 0][\"Pressao_Arterial\"]\n",
        "grupo_condicoes = amostra_aleatoria[amostra_aleatoria[\"Estado_Saude\"] == 1][\"Pressao_Arterial\"]\n",
        "\n",
        "# Teste t para médias\n",
        "t_stat, p_valor = stats.ttest_ind(grupo_saude, grupo_condicoes)\n",
        "\n",
        "print(f\"Teste T: estatística={t_stat:.4f}, p-valor={p_valor:.4f}\")\n",
        "\n",
        "if p_valor < 0.06:\n",
        "    print(\"Rejeitamos H0: A pressão arterial média dos grupos é significativamente diferente.\")\n",
        "else:\n",
        "    print(\"Não rejeitamos H0: Não há diferença significativa entre as médias.\")"
      ],
      "metadata": {
        "colab": {
          "base_uri": "https://localhost:8080/"
        },
        "id": "gEGgx9RIucQP",
        "outputId": "e9bb655e-f9af-4124-c1d1-2c6896e6b9e6"
      },
      "execution_count": 5,
      "outputs": [
        {
          "output_type": "stream",
          "name": "stdout",
          "text": [
            "Teste T: estatística=-0.0812, p-valor=0.9359\n",
            "Não rejeitamos H0: Não há diferença significativa entre as médias.\n"
          ]
        }
      ]
    },
    {
      "cell_type": "markdown",
      "source": [
        "6. Existe uma diferença significativa na pressão arterial média entre diferentes grupos étnicos nesta população? (Teste ANOVA, alpha é 5%)  \n",
        "   a. Hipótese Nula (H0): A pressão arterial média é a mesma em todos os grupos étnicos.  \n",
        "   b. Hipótese Alternativa (H1): Há uma diferença significativa na pressão arterial média entre pelo menos dois grupos étnicos nesta população."
      ],
      "metadata": {
        "id": "GBgCL-zguwn5"
      }
    },
    {
      "cell_type": "code",
      "source": [
        "# Filtrar pressão arterial por grupo étnico\n",
        "grupo_afro = df[df[\"Etnia\"] == 1][\"Pressao_Arterial\"]\n",
        "grupo_hispanico = df[df[\"Etnia\"] == 2][\"Pressao_Arterial\"]\n",
        "grupo_asiatico = df[df[\"Etnia\"] == 3][\"Pressao_Arterial\"]\n",
        "grupo_caucasiano = df[df[\"Etnia\"] == 0][\"Pressao_Arterial\"]\n",
        "\n",
        "# Teste ANOVA para comparação das médias\n",
        "f_stat, p_valor = stats.f_oneway(grupo_afro, grupo_hispanico, grupo_asiatico, grupo_caucasiano)\n",
        "\n",
        "print(f\"Teste ANOVA: estatística F={f_stat:.4f}, p-valor={p_valor:.4f}\")\n",
        "\n",
        "# Interpretação do resultado\n",
        "if p_valor < 0.05:\n",
        "    print(\"Rejeitamos H0: Há uma diferença significativa na pressão arterial média entre pelo menos dois grupos étnicos.\")\n",
        "else:\n",
        "    print(\"Não rejeitamos H0: Não há evidências suficientes para afirmar que a pressão arterial média difere entre os grupos étnicos.\")"
      ],
      "metadata": {
        "colab": {
          "base_uri": "https://localhost:8080/"
        },
        "id": "UYQ4iOd0u96q",
        "outputId": "25ca48db-a670-47c5-d4e3-fa3a7e0674f2"
      },
      "execution_count": 6,
      "outputs": [
        {
          "output_type": "stream",
          "name": "stdout",
          "text": [
            "Teste ANOVA: estatística F=0.2325, p-valor=0.8738\n",
            "Não rejeitamos H0: Não há evidências suficientes para afirmar que a pressão arterial média difere entre os grupos étnicos.\n"
          ]
        }
      ]
    },
    {
      "cell_type": "markdown",
      "source": [
        "7. Lúcia é uma pesquisadora e tem o objetivo de entender a relação de gênero neste grupo de pacientes. Acredita-se que há uma relação entre o sexo e condições de saúde adicionais. (Teste qui-quadrado)"
      ],
      "metadata": {
        "id": "szqbhSE9vKnW"
      }
    },
    {
      "cell_type": "code",
      "source": [
        "import pandas as pd\n",
        "import scipy.stats as stats\n",
        "\n",
        "# Carregar os dados\n",
        "df = pd.read_csv(\"pacientes.csv\")\n",
        "\n",
        "# Criar tabela de contingência\n",
        "contingencia = pd.crosstab(df[\"Genero\"], df[\"Estado_Saude\"])\n",
        "\n",
        "# Teste qui-quadrado\n",
        "chi2_stat, p_valor, _, _ = stats.chi2_contingency(contingencia)\n",
        "\n",
        "print(f\"Teste Qui-Quadrado: estatística={chi2_stat:.4f}, p-valor={p_valor:.4f}\")\n",
        "\n",
        "# Interpretação\n",
        "if p_valor < 0.05:\n",
        "    print(\"Rejeitamos H0: Existe uma associação entre gênero e condição de saúde.\")\n",
        "else:\n",
        "    print(\"Não rejeitamos H0: Não há evidências suficientes de associação entre gênero e condição de saúde.\")"
      ],
      "metadata": {
        "colab": {
          "base_uri": "https://localhost:8080/"
        },
        "id": "IdmaJ99hvNSA",
        "outputId": "776880ce-4401-4c23-b731-03768726d820"
      },
      "execution_count": 7,
      "outputs": [
        {
          "output_type": "stream",
          "name": "stdout",
          "text": [
            "Teste Qui-Quadrado: estatística=0.0000, p-valor=1.0000\n",
            "Não rejeitamos H0: Não há evidências suficientes de associação entre gênero e condição de saúde.\n"
          ]
        }
      ]
    },
    {
      "cell_type": "markdown",
      "source": [
        "8. Existe uma associação entre a idade dos pacientes e sua pressão arterial?  \n",
        "   a. Hipótese Nula (H0): A pressão arterial é independente da idade  \n",
        "   b. Hipótese Alternativa (H1): A pressão arterial está associada à idade"
      ],
      "metadata": {
        "id": "Idk3TrOLvRoF"
      }
    },
    {
      "cell_type": "code",
      "source": [
        "# Teste de correlação de Spearman\n",
        "corr, p_valor = stats.spearmanr(df[\"Idade\"], df[\"Pressao_Arterial\"])\n",
        "\n",
        "print(f\"Correlação de Spearman: coeficiente={corr:.4f}, p-valor={p_valor:.4f}\")\n",
        "\n",
        "# Interpretação\n",
        "if p_valor < 0.05:\n",
        "    print(\"Rejeitamos H0: Existe uma associação significativa entre idade e pressão arterial.\")\n",
        "else:\n",
        "    print(\"Não rejeitamos H0: Não há evidências de associação entre idade e pressão arterial.\")"
      ],
      "metadata": {
        "colab": {
          "base_uri": "https://localhost:8080/"
        },
        "id": "SrJXZPfjvVQ-",
        "outputId": "246e8bd0-6e3d-4080-8cf2-311a1dca5fa2"
      },
      "execution_count": 8,
      "outputs": [
        {
          "output_type": "stream",
          "name": "stdout",
          "text": [
            "Correlação de Spearman: coeficiente=-0.0362, p-valor=0.2530\n",
            "Não rejeitamos H0: Não há evidências de associação entre idade e pressão arterial.\n"
          ]
        }
      ]
    },
    {
      "cell_type": "markdown",
      "source": [
        "9. Qual é o intervalo de confiança para a média da pressão arterial entre os pacientes com condições de saúde adicionais? (nível de confiança 95%)"
      ],
      "metadata": {
        "id": "eGdE_IE6vX1_"
      }
    },
    {
      "cell_type": "code",
      "source": [
        "import numpy as np\n",
        "\n",
        "# Filtrar pacientes com condições de saúde adicionais\n",
        "pressao_condicoes = df[df[\"Estado_Saude\"] == 1][\"Pressao_Arterial\"]\n",
        "\n",
        "# Calcular média e intervalo de confiança\n",
        "media = np.mean(pressao_condicoes)\n",
        "intervalo = stats.t.interval(0.95, len(pressao_condicoes)-1, loc=media, scale=stats.sem(pressao_condicoes))\n",
        "\n",
        "print(f\"Intervalo de confiança 95%: ({intervalo[0]:.2f}, {intervalo[1]:.2f})\")"
      ],
      "metadata": {
        "colab": {
          "base_uri": "https://localhost:8080/"
        },
        "id": "6OEsC2civaiW",
        "outputId": "fa6fec0b-c79b-4a0d-e9f0-8b0c7f4bc085"
      },
      "execution_count": 9,
      "outputs": [
        {
          "output_type": "stream",
          "name": "stdout",
          "text": [
            "Intervalo de confiança 95%: (149.22, 151.02)\n"
          ]
        }
      ]
    },
    {
      "cell_type": "markdown",
      "source": [
        "10. A distribuição da pressão arterial na população segue uma distribuição normal?  \n",
        "    a. Hipótese Nula (H0): A distribuição da pressão arterial na população segue uma distribuição normal.  \n",
        "    b. Hipótese Alternativa (H1): A distribuição da pressão arterial na população não segue uma distribuição normal."
      ],
      "metadata": {
        "id": "3NTj9B2ovdbN"
      }
    },
    {
      "cell_type": "code",
      "source": [
        "# Teste de Shapiro-Wilk\n",
        "shapiro_stat, p_valor = stats.shapiro(df[\"Pressao_Arterial\"])\n",
        "\n",
        "print(f\"Teste de Shapiro-Wilk: estatística={shapiro_stat:.4f}, p-valor={p_valor:.4f}\")\n",
        "\n",
        "# Interpretação\n",
        "if p_valor < 0.05:\n",
        "    print(\"Rejeitamos H0: A distribuição da pressão arterial não é normal.\")\n",
        "else:\n",
        "    print(\"Não rejeitamos H0: A pressão arterial segue uma distribuição normal.\")"
      ],
      "metadata": {
        "colab": {
          "base_uri": "https://localhost:8080/"
        },
        "id": "k3-tikR_vfiB",
        "outputId": "8763b1f3-339f-4419-88a8-e22d744a062d"
      },
      "execution_count": 10,
      "outputs": [
        {
          "output_type": "stream",
          "name": "stdout",
          "text": [
            "Teste de Shapiro-Wilk: estatística=0.9970, p-valor=0.0607\n",
            "Não rejeitamos H0: A pressão arterial segue uma distribuição normal.\n"
          ]
        }
      ]
    }
  ]
}